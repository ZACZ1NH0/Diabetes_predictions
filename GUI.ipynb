{
 "cells": [
  {
   "cell_type": "code",
   "execution_count": 1,
   "id": "5fdfc346-a657-4c3b-93b6-552796e06377",
   "metadata": {},
   "outputs": [],
   "source": [
    "import numpy as np\n",
    "import pandas as pd\n",
    "import pickle\n",
    "\n",
    "# Visualizations\n",
    "import matplotlib.pyplot as plt\n",
    "from matplotlib import rcParams\n",
    "import seaborn as sns\n",
    "%matplotlib inline\n",
    "\n",
    "# Ignore warnings\n",
    "import warnings\n",
    "warnings.filterwarnings('ignore');"
   ]
  },
  {
   "cell_type": "code",
   "execution_count": 2,
   "id": "e9cef152-1ad9-4b7a-9a77-1a8ce32d6bd5",
   "metadata": {},
   "outputs": [],
   "source": [
    "with open('logistic_model.pkl', 'rb') as file:\n",
    "    LRModel = pickle.load(file)"
   ]
  },
  {
   "cell_type": "code",
   "execution_count": 3,
   "id": "d320ec2c-f80c-4283-b15f-de121d01c7bc",
   "metadata": {},
   "outputs": [],
   "source": [
    "with open('Random_Forest.pkl', 'rb') as file:\n",
    "    RFModel = pickle.load(file)"
   ]
  },
  {
   "cell_type": "code",
   "execution_count": 4,
   "id": "dfffb857-d368-4c5f-bdb2-0c94f44e947e",
   "metadata": {},
   "outputs": [],
   "source": [
    "from keras.models import load_model"
   ]
  },
  {
   "cell_type": "code",
   "execution_count": 6,
   "id": "b90b1674-4433-48bd-9fab-5f23ddb794ee",
   "metadata": {},
   "outputs": [
    {
     "name": "stderr",
     "output_type": "stream",
     "text": [
      "WARNING:absl:Compiled the loaded model, but the compiled metrics have yet to be built. `model.compile_metrics` will be empty until you train or evaluate the model.\n"
     ]
    },
    {
     "data": {
      "text/html": [
       "<pre style=\"white-space:pre;overflow-x:auto;line-height:normal;font-family:Menlo,'DejaVu Sans Mono',consolas,'Courier New',monospace\"><span style=\"font-weight: bold\">Model: \"sequential_6\"</span>\n",
       "</pre>\n"
      ],
      "text/plain": [
       "\u001b[1mModel: \"sequential_6\"\u001b[0m\n"
      ]
     },
     "metadata": {},
     "output_type": "display_data"
    },
    {
     "data": {
      "text/html": [
       "<pre style=\"white-space:pre;overflow-x:auto;line-height:normal;font-family:Menlo,'DejaVu Sans Mono',consolas,'Courier New',monospace\">┏━━━━━━━━━━━━━━━━━━━━━━━━━━━━━━━━━━━━━━┳━━━━━━━━━━━━━━━━━━━━━━━━━━━━━┳━━━━━━━━━━━━━━━━━┓\n",
       "┃<span style=\"font-weight: bold\"> Layer (type)                         </span>┃<span style=\"font-weight: bold\"> Output Shape                </span>┃<span style=\"font-weight: bold\">         Param # </span>┃\n",
       "┡━━━━━━━━━━━━━━━━━━━━━━━━━━━━━━━━━━━━━━╇━━━━━━━━━━━━━━━━━━━━━━━━━━━━━╇━━━━━━━━━━━━━━━━━┩\n",
       "│ dense_24 (<span style=\"color: #0087ff; text-decoration-color: #0087ff\">Dense</span>)                     │ (<span style=\"color: #00d7ff; text-decoration-color: #00d7ff\">None</span>, <span style=\"color: #00af00; text-decoration-color: #00af00\">8</span>)                   │              <span style=\"color: #00af00; text-decoration-color: #00af00\">72</span> │\n",
       "├──────────────────────────────────────┼─────────────────────────────┼─────────────────┤\n",
       "│ dense_25 (<span style=\"color: #0087ff; text-decoration-color: #0087ff\">Dense</span>)                     │ (<span style=\"color: #00d7ff; text-decoration-color: #00d7ff\">None</span>, <span style=\"color: #00af00; text-decoration-color: #00af00\">24</span>)                  │             <span style=\"color: #00af00; text-decoration-color: #00af00\">216</span> │\n",
       "├──────────────────────────────────────┼─────────────────────────────┼─────────────────┤\n",
       "│ dropout_6 (<span style=\"color: #0087ff; text-decoration-color: #0087ff\">Dropout</span>)                  │ (<span style=\"color: #00d7ff; text-decoration-color: #00d7ff\">None</span>, <span style=\"color: #00af00; text-decoration-color: #00af00\">24</span>)                  │               <span style=\"color: #00af00; text-decoration-color: #00af00\">0</span> │\n",
       "├──────────────────────────────────────┼─────────────────────────────┼─────────────────┤\n",
       "│ dense_26 (<span style=\"color: #0087ff; text-decoration-color: #0087ff\">Dense</span>)                     │ (<span style=\"color: #00d7ff; text-decoration-color: #00d7ff\">None</span>, <span style=\"color: #00af00; text-decoration-color: #00af00\">4</span>)                   │             <span style=\"color: #00af00; text-decoration-color: #00af00\">100</span> │\n",
       "├──────────────────────────────────────┼─────────────────────────────┼─────────────────┤\n",
       "│ dense_27 (<span style=\"color: #0087ff; text-decoration-color: #0087ff\">Dense</span>)                     │ (<span style=\"color: #00d7ff; text-decoration-color: #00d7ff\">None</span>, <span style=\"color: #00af00; text-decoration-color: #00af00\">1</span>)                   │               <span style=\"color: #00af00; text-decoration-color: #00af00\">5</span> │\n",
       "└──────────────────────────────────────┴─────────────────────────────┴─────────────────┘\n",
       "</pre>\n"
      ],
      "text/plain": [
       "┏━━━━━━━━━━━━━━━━━━━━━━━━━━━━━━━━━━━━━━┳━━━━━━━━━━━━━━━━━━━━━━━━━━━━━┳━━━━━━━━━━━━━━━━━┓\n",
       "┃\u001b[1m \u001b[0m\u001b[1mLayer (type)                        \u001b[0m\u001b[1m \u001b[0m┃\u001b[1m \u001b[0m\u001b[1mOutput Shape               \u001b[0m\u001b[1m \u001b[0m┃\u001b[1m \u001b[0m\u001b[1m        Param #\u001b[0m\u001b[1m \u001b[0m┃\n",
       "┡━━━━━━━━━━━━━━━━━━━━━━━━━━━━━━━━━━━━━━╇━━━━━━━━━━━━━━━━━━━━━━━━━━━━━╇━━━━━━━━━━━━━━━━━┩\n",
       "│ dense_24 (\u001b[38;5;33mDense\u001b[0m)                     │ (\u001b[38;5;45mNone\u001b[0m, \u001b[38;5;34m8\u001b[0m)                   │              \u001b[38;5;34m72\u001b[0m │\n",
       "├──────────────────────────────────────┼─────────────────────────────┼─────────────────┤\n",
       "│ dense_25 (\u001b[38;5;33mDense\u001b[0m)                     │ (\u001b[38;5;45mNone\u001b[0m, \u001b[38;5;34m24\u001b[0m)                  │             \u001b[38;5;34m216\u001b[0m │\n",
       "├──────────────────────────────────────┼─────────────────────────────┼─────────────────┤\n",
       "│ dropout_6 (\u001b[38;5;33mDropout\u001b[0m)                  │ (\u001b[38;5;45mNone\u001b[0m, \u001b[38;5;34m24\u001b[0m)                  │               \u001b[38;5;34m0\u001b[0m │\n",
       "├──────────────────────────────────────┼─────────────────────────────┼─────────────────┤\n",
       "│ dense_26 (\u001b[38;5;33mDense\u001b[0m)                     │ (\u001b[38;5;45mNone\u001b[0m, \u001b[38;5;34m4\u001b[0m)                   │             \u001b[38;5;34m100\u001b[0m │\n",
       "├──────────────────────────────────────┼─────────────────────────────┼─────────────────┤\n",
       "│ dense_27 (\u001b[38;5;33mDense\u001b[0m)                     │ (\u001b[38;5;45mNone\u001b[0m, \u001b[38;5;34m1\u001b[0m)                   │               \u001b[38;5;34m5\u001b[0m │\n",
       "└──────────────────────────────────────┴─────────────────────────────┴─────────────────┘\n"
      ]
     },
     "metadata": {},
     "output_type": "display_data"
    },
    {
     "data": {
      "text/html": [
       "<pre style=\"white-space:pre;overflow-x:auto;line-height:normal;font-family:Menlo,'DejaVu Sans Mono',consolas,'Courier New',monospace\"><span style=\"font-weight: bold\"> Total params: </span><span style=\"color: #00af00; text-decoration-color: #00af00\">395</span> (1.55 KB)\n",
       "</pre>\n"
      ],
      "text/plain": [
       "\u001b[1m Total params: \u001b[0m\u001b[38;5;34m395\u001b[0m (1.55 KB)\n"
      ]
     },
     "metadata": {},
     "output_type": "display_data"
    },
    {
     "data": {
      "text/html": [
       "<pre style=\"white-space:pre;overflow-x:auto;line-height:normal;font-family:Menlo,'DejaVu Sans Mono',consolas,'Courier New',monospace\"><span style=\"font-weight: bold\"> Trainable params: </span><span style=\"color: #00af00; text-decoration-color: #00af00\">393</span> (1.54 KB)\n",
       "</pre>\n"
      ],
      "text/plain": [
       "\u001b[1m Trainable params: \u001b[0m\u001b[38;5;34m393\u001b[0m (1.54 KB)\n"
      ]
     },
     "metadata": {},
     "output_type": "display_data"
    },
    {
     "data": {
      "text/html": [
       "<pre style=\"white-space:pre;overflow-x:auto;line-height:normal;font-family:Menlo,'DejaVu Sans Mono',consolas,'Courier New',monospace\"><span style=\"font-weight: bold\"> Non-trainable params: </span><span style=\"color: #00af00; text-decoration-color: #00af00\">0</span> (0.00 B)\n",
       "</pre>\n"
      ],
      "text/plain": [
       "\u001b[1m Non-trainable params: \u001b[0m\u001b[38;5;34m0\u001b[0m (0.00 B)\n"
      ]
     },
     "metadata": {},
     "output_type": "display_data"
    },
    {
     "data": {
      "text/html": [
       "<pre style=\"white-space:pre;overflow-x:auto;line-height:normal;font-family:Menlo,'DejaVu Sans Mono',consolas,'Courier New',monospace\"><span style=\"font-weight: bold\"> Optimizer params: </span><span style=\"color: #00af00; text-decoration-color: #00af00\">2</span> (12.00 B)\n",
       "</pre>\n"
      ],
      "text/plain": [
       "\u001b[1m Optimizer params: \u001b[0m\u001b[38;5;34m2\u001b[0m (12.00 B)\n"
      ]
     },
     "metadata": {},
     "output_type": "display_data"
    }
   ],
   "source": [
    "noron_model = load_model('NeuralNetwork.h5')\n",
    "noron_model.summary()"
   ]
  },
  {
   "cell_type": "code",
   "execution_count": 7,
   "id": "16e15f6b-952a-4764-8474-87f56479e5d2",
   "metadata": {},
   "outputs": [
    {
     "name": "stdout",
     "output_type": "stream",
     "text": [
      "\u001b[1m1/1\u001b[0m \u001b[32m━━━━━━━━━━━━━━━━━━━━\u001b[0m\u001b[37m\u001b[0m \u001b[1m0s\u001b[0m 467ms/step\n"
     ]
    }
   ],
   "source": [
    "import tkinter as tk\n",
    "from tkinter import ttk, messagebox\n",
    "import pandas as pd\n",
    "import numpy as np\n",
    "\n",
    "# Giả sử các mô hình đã được load sẵn\n",
    "# from joblib import load\n",
    "# LRModel = load('path_to_lr_model.pkl')\n",
    "# noron_model = load('path_to_nn_model.pkl')\n",
    "# RFModel = load('path_to_rf_model.pkl')\n",
    "\n",
    "# Các cột dữ liệu phải khớp với dữ liệu đầu vào của mô hình\n",
    "x = ['Pregnancies', 'Glucose', 'BloodPressure', 'SkinThickness', 'Insulin', 'BMI', 'DiabetesPedigreeFunction', 'Age']\n",
    "\n",
    "def LR_predict():\n",
    "    try:\n",
    "        pregnancies = float(entry_pregnancies.get())\n",
    "        glucose = float(entry_glucose.get())\n",
    "        blood_pressure = float(entry_blood_pressure.get())\n",
    "        skin_thickness = float(entry_skin_thickness.get())\n",
    "        insulin = float(entry_insulin.get())\n",
    "        bmi = float(entry_bmi.get())\n",
    "        dpf = float(entry_dpf.get())\n",
    "        age = float(entry_age.get())\n",
    "\n",
    "        data = [pregnancies, glucose, blood_pressure, skin_thickness, insulin, bmi, dpf, age]\n",
    "        patient_data = pd.DataFrame([data], columns=x)\n",
    "\n",
    "        prediction = LRModel.predict(patient_data)\n",
    "        \n",
    "        if prediction[0] == 1:\n",
    "            messagebox.showinfo(\"Kết quả\", \"Mắc bệnh tiểu đường\")\n",
    "        else:\n",
    "            messagebox.showinfo(\"Kết quả\", \"Không mắc bệnh tiểu đường\")\n",
    "    except ValueError as e:\n",
    "        messagebox.showerror(\"Lỗi\", f\"Vui lòng nhập đúng định dạng số.\\n{e}\")\n",
    "    except Exception as e:\n",
    "        messagebox.showerror(\"Lỗi\", f\"Có lỗi xảy ra: {e}\")\n",
    "\n",
    "def NR_predict():\n",
    "    try:\n",
    "        pregnancies = float(entry_pregnancies.get())\n",
    "        glucose = float(entry_glucose.get())\n",
    "        blood_pressure = float(entry_blood_pressure.get())\n",
    "        skin_thickness = float(entry_skin_thickness.get())\n",
    "        insulin = float(entry_insulin.get())\n",
    "        bmi = float(entry_bmi.get())\n",
    "        dpf = float(entry_dpf.get())\n",
    "        age = float(entry_age.get())\n",
    "\n",
    "        input_data = np.array([[pregnancies, glucose, blood_pressure, skin_thickness, insulin, bmi, dpf, age]])\n",
    "        prediction = noron_model.predict(input_data)\n",
    "        result = 'Mắc bệnh tiểu đường.' if prediction[0][0] > 0.5 else 'Không mắc bệnh tiểu đường.'\n",
    "        \n",
    "        messagebox.showinfo(\"Kết quả dự đoán\", f'Xác suất mắc bệnh tiểu đường: {prediction[0][0]:.2f}\\nDự đoán: {result}')\n",
    "    \n",
    "    except ValueError:\n",
    "        messagebox.showerror(\"Lỗi\", \"Vui lòng nhập đúng định dạng số.\")\n",
    "    except Exception as e:\n",
    "        messagebox.showerror(\"Lỗi\", f\"Có lỗi xảy ra: {e}\")\n",
    "\n",
    "def RF_predict():\n",
    "    try:\n",
    "        pregnancies = float(entry_pregnancies.get())\n",
    "        glucose = float(entry_glucose.get())\n",
    "        blood_pressure = float(entry_blood_pressure.get())\n",
    "        skin_thickness = float(entry_skin_thickness.get())\n",
    "        insulin = float(entry_insulin.get())\n",
    "        bmi = float(entry_bmi.get())\n",
    "        dpf = float(entry_dpf.get())\n",
    "        age = float(entry_age.get())\n",
    "\n",
    "        input_data = np.array([[pregnancies, glucose, blood_pressure, skin_thickness, insulin, bmi, dpf, age]])\n",
    "        prediction = RFModel.predict(input_data)[0]\n",
    "\n",
    "        if prediction == 1:\n",
    "            messagebox.showinfo(\"Kết quả\", \" Mắc bệnh tiểu đường.\")\n",
    "        else:\n",
    "            messagebox.showinfo(\"Kết quả\", \" Không mắc bệnh tiểu đường.\")\n",
    "    except ValueError as e:\n",
    "        messagebox.showerror(\"Lỗi\", f\"Vui lòng nhập đúng định dạng số.\\n{e}\")\n",
    "    except Exception as e:\n",
    "        messagebox.showerror(\"Lỗi\", f\"Có lỗi xảy ra: {e}\")\n",
    "\n",
    "# Tạo cửa sổ chính\n",
    "root = tk.Tk()\n",
    "root.title(\"Dự đoán tiểu đường\")\n",
    "root.geometry(\"400x600\")\n",
    "root.config(bg=\"#f0f0f0\")\n",
    "\n",
    "# Sử dụng Canvas để thêm hình nền\n",
    "canvas = tk.Canvas(root, width=400, height=600)\n",
    "canvas.pack(fill=\"both\", expand=True)\n",
    "\n",
    "# Tạo Gradient background\n",
    "gradient = canvas.create_rectangle(0, 0, 400, 600, outline=\"\", fill=\"lightblue\")\n",
    "\n",
    "frame_inputs = ttk.Frame(canvas, padding=\"10\", style=\"TFrame\")\n",
    "frame_inputs.place(relx=0.5, rely=0.2, anchor=\"center\")\n",
    "\n",
    "# Các trường nhập liệu\n",
    "labels = ['Mang thai bao nhiêu lần', 'Mức glucose trong huyết tương (mg/dL)', 'Huyết áp tâm trương (mmHg)',\n",
    "          'Độ dày nếp gấp da (mm)', 'Mức insulin trong huyết thanh (2 giờ sau kiểm tra glucose)', 'Chỉ số khối cơ thể (BMI)',\n",
    "          'Tiền sử mắc bệnh của gia đình (DPF)', 'Tuổi']\n",
    "\n",
    "entries = []\n",
    "\n",
    "for label in labels:\n",
    "    row = ttk.Frame(frame_inputs)\n",
    "    row.pack(pady=5, fill=\"x\")\n",
    "    ttk.Label(row, text=label, font=(\"Arial\", 12, \"bold\")).pack(side=\"left\", padx=5)\n",
    "    entry = ttk.Entry(row, font=(\"Arial\", 12))\n",
    "    entry.pack(side=\"right\", fill=\"x\", expand=True)\n",
    "    entries.append(entry)\n",
    "\n",
    "# Gán sự kiện Enter để chuyển sang ô nhập liệu kế tiếp\n",
    "def focus_next_widget(event):\n",
    "    event.widget.tk_focusNext().focus()\n",
    "    return \"break\"\n",
    "\n",
    "for entry in entries:\n",
    "    entry.bind(\"<Return>\", focus_next_widget)\n",
    "\n",
    "entry_pregnancies, entry_glucose, entry_blood_pressure, entry_skin_thickness, entry_insulin, entry_bmi, entry_dpf, entry_age = entries\n",
    "\n",
    "# Nút dự đoán\n",
    "button_frame = tk.Frame(root, bg=\"#f0f0f0\")\n",
    "button_frame.place(relx=0.5, rely=0.85, anchor=\"center\")\n",
    "\n",
    "LR_button = tk.Button(button_frame, text=\"Logistic\", command=LR_predict, bg=\"#4CAF50\", fg=\"#ffffff\", font=(\"Arial\", 12, \"bold\"), padx=10, pady=5)\n",
    "LR_button.grid(row=0, column=0, padx=10)\n",
    "\n",
    "NR_button = tk.Button(button_frame, text=\" Neural Network\", command=NR_predict, bg=\"#008CBA\", fg=\"#ffffff\", font=(\"Arial\", 12, \"bold\"), padx=10, pady=5)\n",
    "NR_button.grid(row=0, column=1, padx=10)\n",
    "\n",
    "RF_button = tk.Button(button_frame, text=\" Random Forest\", command=RF_predict, bg=\"#f44336\", fg=\"#ffffff\", font=(\"Arial\", 12, \"bold\"), padx=10, pady=5)\n",
    "RF_button.grid(row=0, column=2, padx=10)\n",
    "\n",
    "# Chạy ứng dụng\n",
    "root.mainloop()\n"
   ]
  }
 ],
 "metadata": {
  "kernelspec": {
   "display_name": "Python 3 (ipykernel)",
   "language": "python",
   "name": "python3"
  },
  "language_info": {
   "codemirror_mode": {
    "name": "ipython",
    "version": 3
   },
   "file_extension": ".py",
   "mimetype": "text/x-python",
   "name": "python",
   "nbconvert_exporter": "python",
   "pygments_lexer": "ipython3",
   "version": "3.12.4"
  }
 },
 "nbformat": 4,
 "nbformat_minor": 5
}
